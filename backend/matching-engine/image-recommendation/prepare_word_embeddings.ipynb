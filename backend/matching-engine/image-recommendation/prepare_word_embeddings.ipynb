{
 "cells": [
  {
   "cell_type": "code",
   "execution_count": null,
   "id": "0a2f12c3-dd31-41a4-a58f-40248c4cc80f",
   "metadata": {},
   "outputs": [],
   "source": [
    "! pip install spacy google-cloud-aiplatform"
   ]
  },
  {
   "cell_type": "code",
   "execution_count": null,
   "id": "ed54cc75-1d1f-4b2c-a6d9-7352a84acfa0",
   "metadata": {},
   "outputs": [],
   "source": [
    "! python -m spacy download en_core_web_md"
   ]
  },
  {
   "cell_type": "code",
   "execution_count": 13,
   "id": "b27b8198-884d-4f2d-8a25-4586afa8f891",
   "metadata": {},
   "outputs": [],
   "source": [
    "# Get data\n",
    "import spacy\n",
    "nlp = spacy.load('en_core_web_md')"
   ]
  },
  {
   "cell_type": "code",
   "execution_count": 14,
   "id": "fcb77059-1290-4934-85a0-b0058e6f19d0",
   "metadata": {},
   "outputs": [
    {
     "name": "stdout",
     "output_type": "stream",
     "text": [
      "--2023-01-25 04:05:56--  https://raw.githubusercontent.com/first20hours/google-10000-english/master/google-10000-english-no-swears.txt\n",
      "Resolving raw.githubusercontent.com (raw.githubusercontent.com)... 185.199.108.133, 185.199.109.133, 185.199.110.133, ...\n",
      "Connecting to raw.githubusercontent.com (raw.githubusercontent.com)|185.199.108.133|:443... connected.\n",
      "HTTP request sent, awaiting response... 200 OK\n",
      "Length: 75153 (73K) [text/plain]\n",
      "Saving to: ‘google-10000-english-no-swears.txt’\n",
      "\n",
      "google-10000-englis 100%[===================>]  73.39K  --.-KB/s    in 0.008s  \n",
      "\n",
      "2023-01-25 04:05:57 (8.79 MB/s) - ‘google-10000-english-no-swears.txt’ saved [75153/75153]\n",
      "\n"
     ]
    }
   ],
   "source": [
    "! wget https://raw.githubusercontent.com/first20hours/google-10000-english/master/google-10000-english-no-swears.txt"
   ]
  },
  {
   "cell_type": "code",
   "execution_count": 15,
   "id": "9fff75de-d024-4bd4-84d6-e17e7195025e",
   "metadata": {},
   "outputs": [],
   "source": [
    "# import string\n",
    "# string.ascii_letters\n",
    "\n",
    "# { word for word in list(nlp.vocab.strings) if all([character in string.ascii_letters for character in word])}"
   ]
  },
  {
   "cell_type": "code",
   "execution_count": 16,
   "id": "cc2049df-b07e-4adb-b7d5-4800b83bd879",
   "metadata": {},
   "outputs": [],
   "source": [
    "with open(\"google-10000-english-no-swears.txt\", \"r\") as f:\n",
    "    words = f.readlines()\n",
    "    \n",
    "words = list({word.strip() for word in words})"
   ]
  },
  {
   "cell_type": "code",
   "execution_count": 17,
   "id": "853c8de7-9305-461f-87a0-522d5b63f55a",
   "metadata": {},
   "outputs": [],
   "source": [
    "word_vectors = [nlp.vocab[word].vector for word in words]"
   ]
  },
  {
   "cell_type": "code",
   "execution_count": 18,
   "id": "75618a27-5e4b-4298-ac98-5ca5cf14b5bd",
   "metadata": {},
   "outputs": [],
   "source": [
    "# import numpy as np\n",
    "\n",
    "# np.array(word_vectors)"
   ]
  },
  {
   "cell_type": "code",
   "execution_count": 20,
   "id": "a003ed87-d08e-4c1e-b65a-46877bced239",
   "metadata": {},
   "outputs": [],
   "source": [
    "# np.count_nonzero(nlp.vocab[\"jam\"].vector)"
   ]
  },
  {
   "cell_type": "code",
   "execution_count": 48,
   "id": "89824413-b23e-4eb4-9bdf-b3d30dfc1d05",
   "metadata": {},
   "outputs": [
    {
     "name": "stdout",
     "output_type": "stream",
     "text": [
      "Not found: dealtime\n",
      "Not found: macromedia\n",
      "Not found: oclc\n",
      "Not found: beastality\n",
      "Not found: vsnet\n",
      "Not found: knowledgestorm\n",
      "Not found: nextel\n",
      "Not found: uniprotkb\n",
      "Not found: invision\n",
      "Not found: techrepublic\n",
      "Not found: freebsd\n",
      "Not found: kelkoo\n",
      "Not found: worldcat\n",
      "Not found: zdnet\n",
      "Not found: shopzilla\n",
      "Not found: minolta\n",
      "Not found: voyuer\n",
      "Not found: ddr\n",
      "Not found: sagem\n",
      "Not found: urw\n",
      "Not found: xhtml\n",
      "Not found: gamespot\n",
      "Not found: cdna\n",
      "Not found: gpl\n",
      "Not found: prostores\n",
      "Not found: trembl\n",
      "Not found: livecam\n",
      "Not found: msgstr\n",
      "Not found: zope\n",
      "Not found: msie\n",
      "Not found: thehun\n",
      "Not found: findarticles\n",
      "Not found: tft\n",
      "Not found: enb\n",
      "Not found: pgp\n",
      "Not found: ntsc\n",
      "Not found: sparc\n",
      "Not found: findlaw\n",
      "Not found: liechtenstein\n",
      "Not found: symantec\n",
      "Not found: fioricet\n",
      "Not found: looksmart\n",
      "Not found: hewlett\n",
      "Not found: verzeichnis\n",
      "Not found: mpegs\n",
      "Not found: expansys\n",
      "Not found: jvc\n",
      "Not found: pichunter\n",
      "Not found: nutten\n",
      "Not found: lycos\n",
      "Not found: titten\n",
      "Not found: issn\n",
      "Not found: listprice\n",
      "Not found: muze\n",
      "Not found: starsmerchant\n",
      "Not found: bizrate\n",
      "Not found: cdt\n",
      "Not found: mysimon\n",
      "Not found: powerseller\n",
      "Not found: treo\n",
      "Not found: citysearch\n",
      "Not found: grenada\n",
      "Not found: icq\n",
      "Not found: cingular\n",
      "Not found: viewpicture\n",
      "Not found: zus\n",
      "Not found: epinions\n",
      "Not found: jelsoft\n",
      "Not found: apnic\n",
      "Not found: boc\n",
      "Not found: thumbzilla\n",
      "Not found: twiki\n",
      "Not found: dicke\n",
      "Not found: suse\n",
      "Not found: acdbentity\n",
      "Not found: zshops\n",
      "Not found: rfc\n",
      "Not found: feof\n",
      "Not found: ampland\n",
      "Not found: fujitsu\n",
      "Not found: asn\n",
      "Not found: pdas\n",
      "Not found: ipaq\n",
      "Not found: voyeurweb\n",
      "Not found: netscape\n",
      "Not found: mrna\n",
      "Not found: sanyo\n",
      "Not found: postposted\n",
      "Not found: ericsson\n",
      "Not found: lexmark\n",
      "Not found: bufing\n",
      "Not found: sbjct\n",
      "Not found: webshots\n",
      "Not found: vbulletin\n",
      "Not found: transexuales\n"
     ]
    }
   ],
   "source": [
    "import numpy as np\n",
    "# Convert to embeddings\n",
    "word_embeddings = []\n",
    "for word in words:\n",
    "    embedding = nlp.vocab[word].vector\n",
    "    \n",
    "    if not np.count_nonzero(embedding) > 0:\n",
    "        print(f\"Not found: {word}\")        \n",
    "    else:\n",
    "        word_embeddings.append((word, embedding))"
   ]
  },
  {
   "cell_type": "markdown",
   "id": "99f1da07-d165-4b57-8535-e9ec289fff6d",
   "metadata": {},
   "source": [
    "https://github.com/GoogleCloudPlatform/vertex-ai-samples/blob/main/notebooks/official/matching_engine/sdk_matching_engine_for_indexing.ipynb"
   ]
  },
  {
   "cell_type": "code",
   "execution_count": 50,
   "id": "90f6f044-582a-4e57-9579-126c12e2c6b2",
   "metadata": {},
   "outputs": [],
   "source": [
    "import json\n",
    "\n",
    "with open(\"word_embeddings_formatted.json\", \"w\") as f:\n",
    "    embeddings_formatted = [\n",
    "        json.dumps(\n",
    "            {\n",
    "                \"id\": word,\n",
    "                \"embedding\": [str(value) for value in embedding],\n",
    "            }\n",
    "        )\n",
    "        + \"\\n\"\n",
    "        for word, embedding in word_embeddings\n",
    "    ]\n",
    "    f.writelines(embeddings_formatted)"
   ]
  },
  {
   "cell_type": "code",
   "execution_count": 51,
   "id": "3e015d9a-ec32-437c-bf43-dbd9c0b34864",
   "metadata": {},
   "outputs": [],
   "source": [
    "PROJECT_ID = \"python-docs-samples-tests\"\n",
    "REGION = \"us-central1\"\n",
    "BUCKET_URI = \"gs://ivanmkc-test2\"\n",
    "DIMENSIONS = len(word_embeddings[0][1])\n",
    "# DIMENSIONS = 300\n",
    "DISPLAY_NAME = \"10000_common_words_spacy\""
   ]
  },
  {
   "cell_type": "code",
   "execution_count": 52,
   "id": "7514391a-bb8c-45aa-ae29-3af188c79b48",
   "metadata": {},
   "outputs": [
    {
     "name": "stdout",
     "output_type": "stream",
     "text": [
      "Copying file://word_embeddings_formatted.json [Content-Type=application/json]...\n",
      "\\ [1 files][ 30.4 MiB/ 30.4 MiB]                                                \n",
      "Operation completed over 1 objects/30.4 MiB.                                     \n"
     ]
    }
   ],
   "source": [
    "EMBEDDINGS_INITIAL_URI = f\"{BUCKET_URI}/matching_engine/initial/\"\n",
    "! gsutil cp word_embeddings_formatted.json {EMBEDDINGS_INITIAL_URI}"
   ]
  },
  {
   "cell_type": "code",
   "execution_count": 53,
   "id": "88aec438-7e27-4202-a180-20b2e4c8f814",
   "metadata": {},
   "outputs": [],
   "source": [
    "# ! gsutil rm -r {EMBEDDINGS_INITIAL_URI}"
   ]
  },
  {
   "cell_type": "code",
   "execution_count": 54,
   "id": "94cd580a-9017-4da7-9831-9de4a259eb9a",
   "metadata": {},
   "outputs": [],
   "source": [
    "# Add to matching engine\n",
    "import os\n",
    "\n",
    "from google.cloud import aiplatform\n",
    "\n",
    "aiplatform.init(project=PROJECT_ID, location=REGION, staging_bucket=BUCKET_URI)"
   ]
  },
  {
   "cell_type": "code",
   "execution_count": 55,
   "id": "f28d2b4f-4447-49f9-a27b-1e47aff89d5b",
   "metadata": {},
   "outputs": [
    {
     "name": "stdout",
     "output_type": "stream",
     "text": [
      "Creating MatchingEngineIndex\n",
      "Create MatchingEngineIndex backing LRO: projects/1012616486416/locations/us-central1/indexes/3975878026503127040/operations/3584114130786713600\n",
      "MatchingEngineIndex created. Resource name: projects/1012616486416/locations/us-central1/indexes/3975878026503127040\n",
      "To use this MatchingEngineIndex in another session:\n",
      "index = aiplatform.MatchingEngineIndex('projects/1012616486416/locations/us-central1/indexes/3975878026503127040')\n"
     ]
    }
   ],
   "source": [
    "tree_ah_index = aiplatform.MatchingEngineIndex.create_tree_ah_index(\n",
    "    display_name=DISPLAY_NAME,\n",
    "    contents_delta_uri=EMBEDDINGS_INITIAL_URI,\n",
    "    dimensions=DIMENSIONS,\n",
    "    approximate_neighbors_count=150,\n",
    "    distance_measure_type=\"DOT_PRODUCT_DISTANCE\",\n",
    "    leaf_node_embedding_count=500,\n",
    "    leaf_nodes_to_search_percent=80,\n",
    "    description=\"Spacy ANN index\",\n",
    ")"
   ]
  },
  {
   "cell_type": "code",
   "execution_count": null,
   "id": "6242ac95-264b-4262-bf29-84530db9cf55",
   "metadata": {},
   "outputs": [],
   "source": [
    "tree_ah_index"
   ]
  },
  {
   "cell_type": "markdown",
   "id": "ee489545-c853-4e9e-94fb-5f97e79c172f",
   "metadata": {},
   "source": [
    "## Create an IndexEndpoint with VPC Network"
   ]
  },
  {
   "cell_type": "code",
   "execution_count": 57,
   "id": "06b85f17-e63b-4f57-923a-f2a4290ce5c8",
   "metadata": {},
   "outputs": [
    {
     "data": {
      "text/plain": [
       "'projects/1012616486416/global/networks/ucaip-haystack-vpc-network'"
      ]
     },
     "execution_count": 57,
     "metadata": {},
     "output_type": "execute_result"
    }
   ],
   "source": [
    "# Retrieve the project number\n",
    "PROJECT_NUMBER = !gcloud projects list --filter=\"PROJECT_ID:'{PROJECT_ID}'\" --format='value(PROJECT_NUMBER)'\n",
    "PROJECT_NUMBER = PROJECT_NUMBER[0]\n",
    "\n",
    "VPC_NETWORK = \"ucaip-haystack-vpc-network\"\n",
    "VPC_NETWORK_FULL = \"projects/{}/global/networks/{}\".format(PROJECT_NUMBER, VPC_NETWORK)\n",
    "VPC_NETWORK_FULL"
   ]
  },
  {
   "cell_type": "code",
   "execution_count": 58,
   "id": "f0ead6b5-caec-4e99-8213-adc6b56e749e",
   "metadata": {},
   "outputs": [
    {
     "name": "stdout",
     "output_type": "stream",
     "text": [
      "Creating MatchingEngineIndexEndpoint\n",
      "Create MatchingEngineIndexEndpoint backing LRO: projects/1012616486416/locations/us-central1/indexEndpoints/3118505247442468864/operations/874636004969938944\n",
      "MatchingEngineIndexEndpoint created. Resource name: projects/1012616486416/locations/us-central1/indexEndpoints/3118505247442468864\n",
      "To use this MatchingEngineIndexEndpoint in another session:\n",
      "index_endpoint = aiplatform.MatchingEngineIndexEndpoint('projects/1012616486416/locations/us-central1/indexEndpoints/3118505247442468864')\n"
     ]
    }
   ],
   "source": [
    "my_index_endpoint = aiplatform.MatchingEngineIndexEndpoint.create(\n",
    "    display_name=f\"{DISPLAY_NAME}_endpoint\",\n",
    "    description=\"10000 common words\",\n",
    "    network=VPC_NETWORK_FULL,\n",
    ")"
   ]
  },
  {
   "cell_type": "code",
   "execution_count": 63,
   "id": "07ae8643-137e-4d3a-845d-2368096cc0c8",
   "metadata": {},
   "outputs": [],
   "source": [
    "DEPLOYED_INDEX_ID = \"tree_ah_glove_deployed_unique_3\""
   ]
  },
  {
   "cell_type": "markdown",
   "id": "d869dc0b-b07a-4821-a76d-40176441d5c4",
   "metadata": {},
   "source": [
    "## Deploy Indexes"
   ]
  },
  {
   "cell_type": "code",
   "execution_count": null,
   "id": "db311bb1-376f-4e8e-b2ba-d7b60e194dca",
   "metadata": {},
   "outputs": [
    {
     "name": "stdout",
     "output_type": "stream",
     "text": [
      "Deploying index MatchingEngineIndexEndpoint index_endpoint: projects/1012616486416/locations/us-central1/indexEndpoints/3118505247442468864\n",
      "Deploy index MatchingEngineIndexEndpoint index_endpoint backing LRO: projects/1012616486416/locations/us-central1/indexEndpoints/3118505247442468864/operations/7529267404363268096\n"
     ]
    }
   ],
   "source": [
    "my_index_endpoint = my_index_endpoint.deploy_index(\n",
    "    index=tree_ah_index, deployed_index_id=DEPLOYED_INDEX_ID\n",
    ")\n",
    "\n",
    "my_index_endpoint.deployed_indexes"
   ]
  },
  {
   "cell_type": "markdown",
   "id": "ebba492e-db05-4c06-b630-72cd0382d592",
   "metadata": {},
   "source": [
    "## Make prediction"
   ]
  },
  {
   "cell_type": "code",
   "execution_count": null,
   "id": "61bdc826-b368-4dfb-a0c6-881d1fb60906",
   "metadata": {},
   "outputs": [],
   "source": [
    "# my_index_endpoint = aiplatform.MatchingEngineIndexEndpoint(\"projects/1012616486416/locations/us-central1/indexEndpoints/2844911570079711232\")"
   ]
  },
  {
   "cell_type": "code",
   "execution_count": 107,
   "id": "4d010b51-4ef8-4bc8-a4ea-5220da5137f2",
   "metadata": {},
   "outputs": [],
   "source": [
    "test = nlp.vocab[\"steak\"].vector.tolist()"
   ]
  },
  {
   "cell_type": "code",
   "execution_count": 108,
   "id": "3313940c-c519-47df-9894-5c8774c6831e",
   "metadata": {},
   "outputs": [],
   "source": [
    "# Test query\n",
    "NUM_NEIGHBOURS = 50\n",
    "\n",
    "# Test query\n",
    "response = my_index_endpoint.match(\n",
    "    deployed_index_id=DEPLOYED_INDEX_ID,\n",
    "    queries=[test],\n",
    "    num_neighbors=NUM_NEIGHBOURS,\n",
    ")\n",
    "\n",
    "matches_all = [match for matches in response for match in matches]"
   ]
  },
  {
   "cell_type": "code",
   "execution_count": 109,
   "id": "7f9119f8-1ec8-47ea-8eab-7344f813c002",
   "metadata": {},
   "outputs": [
    {
     "data": {
      "text/plain": [
       "[MatchNeighbor(id='meat', distance=1728.51806640625),\n",
       " MatchNeighbor(id='beef', distance=1705.654541015625),\n",
       " MatchNeighbor(id='pork', distance=1614.385009765625),\n",
       " MatchNeighbor(id='dish', distance=1570.297119140625),\n",
       " MatchNeighbor(id='meal', distance=1497.3118896484375),\n",
       " MatchNeighbor(id='ham', distance=1426.80859375),\n",
       " MatchNeighbor(id='sauce', distance=1418.895751953125),\n",
       " MatchNeighbor(id='pie', distance=1406.8028564453125),\n",
       " MatchNeighbor(id='eat', distance=1347.900634765625),\n",
       " MatchNeighbor(id='cook', distance=1332.3133544921875),\n",
       " MatchNeighbor(id='pan', distance=1287.2825927734375),\n",
       " MatchNeighbor(id='fish', distance=1245.0908203125),\n",
       " MatchNeighbor(id='salad', distance=1227.3583984375),\n",
       " MatchNeighbor(id='lamb', distance=1216.9248046875),\n",
       " MatchNeighbor(id='ct', distance=1216.5611572265625),\n",
       " MatchNeighbor(id='oz', distance=1216.5611572265625),\n",
       " MatchNeighbor(id='pcs', distance=1216.5611572265625),\n",
       " MatchNeighbor(id='pk', distance=1216.5611572265625),\n",
       " MatchNeighbor(id='qt', distance=1216.5611572265625),\n",
       " MatchNeighbor(id='pot', distance=1215.093505859375),\n",
       " MatchNeighbor(id='pizza', distance=1214.972900390625),\n",
       " MatchNeighbor(id='soup', distance=1214.6043701171875),\n",
       " MatchNeighbor(id='cooked', distance=1208.26953125),\n",
       " MatchNeighbor(id='chicken', distance=1194.324462890625),\n",
       " MatchNeighbor(id='grill', distance=1190.58984375),\n",
       " MatchNeighbor(id='food', distance=1189.9365234375),\n",
       " MatchNeighbor(id='fat', distance=1186.5087890625),\n",
       " MatchNeighbor(id='oven', distance=1178.606201171875),\n",
       " MatchNeighbor(id='cheese', distance=1161.391357421875),\n",
       " MatchNeighbor(id='egg', distance=1151.4283447265625),\n",
       " MatchNeighbor(id='pasta', distance=1149.923095703125),\n",
       " MatchNeighbor(id='dishes', distance=1149.4927978515625),\n",
       " MatchNeighbor(id='rice', distance=1149.4044189453125),\n",
       " MatchNeighbor(id='wine', distance=1145.3800048828125),\n",
       " MatchNeighbor(id='cake', distance=1129.51806640625),\n",
       " MatchNeighbor(id='bread', distance=1128.425048828125),\n",
       " MatchNeighbor(id='cod', distance=1114.523193359375),\n",
       " MatchNeighbor(id='foods', distance=1106.167236328125),\n",
       " MatchNeighbor(id='it', distance=1086.7100830078125),\n",
       " MatchNeighbor(id='hot', distance=1074.9368896484375),\n",
       " MatchNeighbor(id='menu', distance=1072.9161376953125),\n",
       " MatchNeighbor(id='meals', distance=1057.35888671875),\n",
       " MatchNeighbor(id='bacon', distance=1047.5379638671875),\n",
       " MatchNeighbor(id='flavor', distance=1042.95556640625),\n",
       " MatchNeighbor(id='bar', distance=1042.904052734375),\n",
       " MatchNeighbor(id='eggs', distance=1009.5716552734375),\n",
       " MatchNeighbor(id='recipe', distance=1007.3167724609375),\n",
       " MatchNeighbor(id='chef', distance=1006.35009765625),\n",
       " MatchNeighbor(id='wines', distance=998.3004150390625),\n",
       " MatchNeighbor(id='tea', distance=984.3567504882812)]"
      ]
     },
     "execution_count": 109,
     "metadata": {},
     "output_type": "execute_result"
    }
   ],
   "source": [
    "sorted(matches_all, key=lambda x: x.distance, reverse=True)"
   ]
  },
  {
   "cell_type": "code",
   "execution_count": null,
   "id": "52b54ab5-fa46-437c-a426-2f24a09a796e",
   "metadata": {},
   "outputs": [],
   "source": []
  }
 ],
 "metadata": {
  "environment": {
   "kernel": "python3",
   "name": "tf2-gpu.2-8.m102",
   "type": "gcloud",
   "uri": "gcr.io/deeplearning-platform-release/tf2-gpu.2-8:m102"
  },
  "kernelspec": {
   "display_name": "env",
   "language": "python",
   "name": "python3"
  },
  "language_info": {
   "codemirror_mode": {
    "name": "ipython",
    "version": 3
   },
   "file_extension": ".py",
   "mimetype": "text/x-python",
   "name": "python",
   "nbconvert_exporter": "python",
   "pygments_lexer": "ipython3",
   "version": "3.8.16"
  },
  "vscode": {
   "interpreter": {
    "hash": "5234d24ce7e5bdeaf69784cae1a3f434d403cdf34c0b241e64f6c2c2cdb838e3"
   }
  }
 },
 "nbformat": 4,
 "nbformat_minor": 5
}
