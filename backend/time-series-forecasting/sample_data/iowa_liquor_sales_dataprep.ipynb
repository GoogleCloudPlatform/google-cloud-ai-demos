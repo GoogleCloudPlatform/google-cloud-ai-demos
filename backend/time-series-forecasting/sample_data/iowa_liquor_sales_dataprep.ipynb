{
  "cells": [
    {
      "cell_type": "code",
      "execution_count": null,
      "metadata": {
        "id": "copyright"
      },
      "outputs": [],
      "source": [
        "# Copyright 2022 Google LLC\n",
        "#\n",
        "# Licensed under the Apache License, Version 2.0 (the \"License\");\n",
        "# you may not use this file except in compliance with the License.\n",
        "# You may obtain a copy of the License at\n",
        "#\n",
        "#     https://www.apache.org/licenses/LICENSE-2.0\n",
        "#\n",
        "# Unless required by applicable law or agreed to in writing, software\n",
        "# distributed under the Lice`nse is distributed on an \"AS IS\" BASIS,\n",
        "# WITHOUT WARRANTIES OR CONDITIONS OF ANY KIND, either express or implied.\n",
        "# See the License for the specific language governing permissions and\n",
        "# limitations under the License."
      ]
    },
    {
      "cell_type": "markdown",
      "id": "1d4f1b6e",
      "metadata": {
        "id": "b07efec65aa2"
      },
      "source": [
        "# Iowa liquor data preparation\n",
        "\n",
        "This notebook simplifies the Iowa Liquor Sales dataset to make it easier to demo."
      ]
    },
    {
      "cell_type": "code",
      "execution_count": null,
      "id": "e810020d-2fdc-4a3e-a4fc-727d5f3e9c46",
      "metadata": {
        "id": "c98b3375d98a"
      },
      "outputs": [],
      "source": [
        "from google.cloud import bigquery\n",
        "\n",
        "client = bigquery.Client()"
      ]
    },
    {
      "cell_type": "markdown",
      "id": "7cc25449",
      "metadata": {
        "id": "c6f14aaa82a1"
      },
      "source": [
        "### Retrieve dataset as dataframe"
      ]
    },
    {
      "cell_type": "code",
      "execution_count": null,
      "id": "e68126f3-7525-45e5-a28c-735d7cb0cc34",
      "metadata": {
        "id": "8912722696e7"
      },
      "outputs": [],
      "source": [
        "dataset_uri = \"bigquery-public-data.iowa_liquor_sales_forecasting.2020_sales_train\""
      ]
    },
    {
      "cell_type": "code",
      "execution_count": null,
      "id": "e50a42e5-3170-4bf0-ae92-e13fbb3ab071",
      "metadata": {
        "id": "c26d7867b403"
      },
      "outputs": [],
      "source": [
        "sql = f\"\"\"\n",
        "    SELECT *\n",
        "    FROM `{dataset_uri}`\n",
        "\"\"\"\n",
        "\n",
        "df = client.query(sql).to_dataframe()"
      ]
    },
    {
      "cell_type": "markdown",
      "id": "5951134f",
      "metadata": {
        "id": "d5c7bed6bd96"
      },
      "source": [
        "### Clean data"
      ]
    },
    {
      "cell_type": "code",
      "execution_count": null,
      "id": "9c033094-1e0d-4433-83ca-a98487414f89",
      "metadata": {
        "id": "29df350d35cb"
      },
      "outputs": [],
      "source": [
        "df = df.sort_values(\"date\")\n",
        "df = df.dropna()"
      ]
    },
    {
      "cell_type": "code",
      "execution_count": null,
      "id": "2bc123be-1227-4b12-99ad-297602892e38",
      "metadata": {
        "id": "a4f3b0041d7e"
      },
      "outputs": [],
      "source": [
        "df.columns"
      ]
    },
    {
      "cell_type": "code",
      "execution_count": null,
      "id": "4fa3e307-3d92-498a-8007-7d50d7ffdbec",
      "metadata": {
        "id": "3e49f762d2d5"
      },
      "outputs": [],
      "source": [
        "df.head()"
      ]
    },
    {
      "cell_type": "code",
      "execution_count": null,
      "id": "aa54da37-2d4a-4d6a-b2eb-2325c5ceab7a",
      "metadata": {
        "id": "089ff5f0cc5c"
      },
      "outputs": [],
      "source": [
        "df[\"county_and_city\"] = df.county + \" - \" + df.city"
      ]
    },
    {
      "cell_type": "markdown",
      "id": "416e1554",
      "metadata": {
        "id": "6875a863adbb"
      },
      "source": [
        "### Only keep rows from counties and cities with the most rows\n",
        "\n",
        "This is to reduce the dataset for demo purposes"
      ]
    },
    {
      "cell_type": "code",
      "execution_count": null,
      "id": "627846af-fc49-4b5c-b1e1-30fc59092d75",
      "metadata": {
        "id": "03705e734a56"
      },
      "outputs": [],
      "source": [
        "group = \"county_and_city\"\n",
        "\n",
        "# Get zip_code_store_name with most rows\n",
        "group_n_largest = df.groupby(group).sale_dollars.count().nlargest(12)\n",
        "\n",
        "group_n_largest"
      ]
    },
    {
      "cell_type": "code",
      "execution_count": null,
      "id": "49a469fb-561b-4036-871b-7625392797c3",
      "metadata": {
        "id": "02b14c4689f5"
      },
      "outputs": [],
      "source": [
        "group_n_largest_names = group_n_largest.reset_index()[group].tolist()\n",
        "\n",
        "group_n_largest_names"
      ]
    },
    {
      "cell_type": "code",
      "execution_count": null,
      "id": "63bcc67d-d164-4156-8cb0-53bfa9753831",
      "metadata": {
        "id": "82b2bdaed7a7"
      },
      "outputs": [],
      "source": [
        "df_filtered = df[df[group].isin(group_n_largest_names)]"
      ]
    },
    {
      "cell_type": "code",
      "execution_count": null,
      "id": "9a411c9f-7a0e-452e-817e-0589cdc42487",
      "metadata": {
        "id": "38fe1de0874b"
      },
      "outputs": [],
      "source": [
        "import matplotlib.pyplot as plt\n",
        "import seaborn as sns\n",
        "\n",
        "# Plot sales\n",
        "fig = plt.gcf()\n",
        "fig.set_size_inches(24, 12)"
      ]
    },
    {
      "cell_type": "code",
      "execution_count": null,
      "id": "13f2f37e-f88b-4107-88e5-5a6fd56c3c19",
      "metadata": {
        "id": "909cde46971d"
      },
      "outputs": [],
      "source": [
        "sns.relplot(\n",
        "    data=df_filtered,\n",
        "    x=\"date\",\n",
        "    y=\"sale_dollars\",\n",
        "    # hue=\"project_name_and_service\",\n",
        "    row=group,\n",
        "    height=5,\n",
        "    aspect=4,\n",
        "    kind=\"line\",\n",
        "    # facet_kws={'sharey': False, 'sharex': True},\n",
        "    errorbar=None,\n",
        ")"
      ]
    },
    {
      "cell_type": "code",
      "execution_count": null,
      "id": "43067955-74fe-4928-bd72-1997611e5b7c",
      "metadata": {
        "id": "f507c45e63ed"
      },
      "outputs": [],
      "source": [
        "df_filtered.to_csv(\"iowa_liquor_sales.csv\", index=False)"
      ]
    }
  ],
  "metadata": {
    "colab": {
      "name": "iowa_liquor_sales_dataprep.ipynb",
      "toc_visible": true
    },
    "kernelspec": {
      "display_name": "Python 3.9.13 ('env': venv)",
      "language": "python",
      "name": "python3"
    },
    "language_info": {
      "name": "python",
      "version": "3.9.13"
    },
    "vscode": {
      "interpreter": {
        "hash": "7368eb559657f1a217d63cba824f004815e34825cb8e68e06d4b3e1f9a39e920"
      }
    }
  },
  "nbformat": 4,
  "nbformat_minor": 0
}
